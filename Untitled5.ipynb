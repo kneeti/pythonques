{
  "nbformat": 4,
  "nbformat_minor": 0,
  "metadata": {
    "colab": {
      "name": "Untitled5.ipynb",
      "provenance": [],
      "collapsed_sections": []
    },
    "kernelspec": {
      "name": "python3",
      "display_name": "Python 3"
    }
  },
  "cells": [
    {
      "cell_type": "markdown",
      "metadata": {
        "id": "rt2f3W5LgWti",
        "colab_type": "text"
      },
      "source": [
        "# Q1 Write a program which will find all the numbers that are divisible by 7 but are not a multiple of 5 between 2000 and 3200(both included).the numbers obtained should be printed in a comma-seperated sequence on a single line."
      ]
    },
    {
      "cell_type": "code",
      "metadata": {
        "id": "36mtdzI1rMp6",
        "colab_type": "code",
        "colab": {
          "base_uri": "https://localhost:8080/",
          "height": 54
        },
        "outputId": "4567e414-e007-4aad-b767-9eb8d4876ab6"
      },
      "source": [
        "div_7_not_5=[]\n",
        "for i in range(2000, 3200):\n",
        "     if i%7==0:\n",
        "       if i%5!=0: \n",
        "           div_7_not_5.append(i)\n",
        "print(div_7_not_5, end=', ')"
      ],
      "execution_count": 6,
      "outputs": [
        {
          "output_type": "stream",
          "text": [
            "[2002, 2009, 2016, 2023, 2037, 2044, 2051, 2058, 2072, 2079, 2086, 2093, 2107, 2114, 2121, 2128, 2142, 2149, 2156, 2163, 2177, 2184, 2191, 2198, 2212, 2219, 2226, 2233, 2247, 2254, 2261, 2268, 2282, 2289, 2296, 2303, 2317, 2324, 2331, 2338, 2352, 2359, 2366, 2373, 2387, 2394, 2401, 2408, 2422, 2429, 2436, 2443, 2457, 2464, 2471, 2478, 2492, 2499, 2506, 2513, 2527, 2534, 2541, 2548, 2562, 2569, 2576, 2583, 2597, 2604, 2611, 2618, 2632, 2639, 2646, 2653, 2667, 2674, 2681, 2688, 2702, 2709, 2716, 2723, 2737, 2744, 2751, 2758, 2772, 2779, 2786, 2793, 2807, 2814, 2821, 2828, 2842, 2849, 2856, 2863, 2877, 2884, 2891, 2898, 2912, 2919, 2926, 2933, 2947, 2954, 2961, 2968, 2982, 2989, 2996, 3003, 3017, 3024, 3031, 3038, 3052, 3059, 3066, 3073, 3087, 3094, 3101, 3108, 3122, 3129, 3136, 3143, 3157, 3164, 3171, 3178, 3192, 3199], "
          ],
          "name": "stdout"
        }
      ]
    },
    {
      "cell_type": "markdown",
      "metadata": {
        "id": "fyxXD-LugOkb",
        "colab_type": "text"
      },
      "source": [
        "#Q2 Write a program to accept user's first name and last name and getting them printed in the reverse order with a space between first name and last name "
      ]
    },
    {
      "cell_type": "code",
      "metadata": {
        "id": "vVI81olgfLAi",
        "colab_type": "code",
        "colab": {
          "base_uri": "https://localhost:8080/",
          "height": 51
        },
        "outputId": "dbb56fbb-6a20-4512-bba0-4e2308dada79"
      },
      "source": [
        " name=[]\n",
        "name = input(\"Enter your full name : \") \n",
        "print (name )"
      ],
      "execution_count": 10,
      "outputs": [
        {
          "output_type": "stream",
          "text": [
            "Enter your full name : Neeti Singh\n",
            "Neeti Singh\n"
          ],
          "name": "stdout"
        }
      ]
    },
    {
      "cell_type": "code",
      "metadata": {
        "id": "2D7UXcbCiEPz",
        "colab_type": "code",
        "colab": {
          "base_uri": "https://localhost:8080/",
          "height": 34
        },
        "outputId": "5e4ab24a-0382-4f71-da5f-e2f1171004a1"
      },
      "source": [
        "split_name= name.split()\n",
        "split_name"
      ],
      "execution_count": 16,
      "outputs": [
        {
          "output_type": "execute_result",
          "data": {
            "text/plain": [
              "['Neeti', 'Singh']"
            ]
          },
          "metadata": {
            "tags": []
          },
          "execution_count": 16
        }
      ]
    },
    {
      "cell_type": "code",
      "metadata": {
        "id": "u_HfzkVtibrq",
        "colab_type": "code",
        "colab": {
          "base_uri": "https://localhost:8080/",
          "height": 35
        },
        "outputId": "559eaa3b-e665-4f3e-bdde-93b3b973a514"
      },
      "source": [
        "first_name=split_name[0]\n",
        "first_name"
      ],
      "execution_count": 18,
      "outputs": [
        {
          "output_type": "execute_result",
          "data": {
            "application/vnd.google.colaboratory.intrinsic": {
              "type": "string"
            },
            "text/plain": [
              "'Neeti'"
            ]
          },
          "metadata": {
            "tags": []
          },
          "execution_count": 18
        }
      ]
    },
    {
      "cell_type": "code",
      "metadata": {
        "id": "0cpedtcJjAC4",
        "colab_type": "code",
        "colab": {
          "base_uri": "https://localhost:8080/",
          "height": 35
        },
        "outputId": "fd47d7c4-142b-4d31-a666-480f673cbc25"
      },
      "source": [
        "first_name_rev=first_name[::-1]\n",
        "first_name_rev"
      ],
      "execution_count": 20,
      "outputs": [
        {
          "output_type": "execute_result",
          "data": {
            "application/vnd.google.colaboratory.intrinsic": {
              "type": "string"
            },
            "text/plain": [
              "'iteeN'"
            ]
          },
          "metadata": {
            "tags": []
          },
          "execution_count": 20
        }
      ]
    },
    {
      "cell_type": "code",
      "metadata": {
        "id": "6NCjla6-i2PU",
        "colab_type": "code",
        "colab": {
          "base_uri": "https://localhost:8080/",
          "height": 35
        },
        "outputId": "b665e0d9-371c-4259-f98a-4d9b22b5f0aa"
      },
      "source": [
        "last_name=split_name[1]\n",
        "last_name"
      ],
      "execution_count": 19,
      "outputs": [
        {
          "output_type": "execute_result",
          "data": {
            "application/vnd.google.colaboratory.intrinsic": {
              "type": "string"
            },
            "text/plain": [
              "'Singh'"
            ]
          },
          "metadata": {
            "tags": []
          },
          "execution_count": 19
        }
      ]
    },
    {
      "cell_type": "code",
      "metadata": {
        "id": "jkaveN4mjKQj",
        "colab_type": "code",
        "colab": {
          "base_uri": "https://localhost:8080/",
          "height": 35
        },
        "outputId": "81d80882-ad9a-49c9-99ab-cd1268771927"
      },
      "source": [
        "last_name_rev=last_name[::-1]\n",
        "last_name_rev"
      ],
      "execution_count": 21,
      "outputs": [
        {
          "output_type": "execute_result",
          "data": {
            "application/vnd.google.colaboratory.intrinsic": {
              "type": "string"
            },
            "text/plain": [
              "'hgniS'"
            ]
          },
          "metadata": {
            "tags": []
          },
          "execution_count": 21
        }
      ]
    },
    {
      "cell_type": "code",
      "metadata": {
        "id": "Ks-DHIM7jSv3",
        "colab_type": "code",
        "colab": {
          "base_uri": "https://localhost:8080/",
          "height": 35
        },
        "outputId": "5593061a-1844-486a-cd94-fb42013bc7ef"
      },
      "source": [
        "\n",
        "concat_rev = first_name_rev + \" \" + last_name_rev\n",
        "concat_rev"
      ],
      "execution_count": 23,
      "outputs": [
        {
          "output_type": "execute_result",
          "data": {
            "application/vnd.google.colaboratory.intrinsic": {
              "type": "string"
            },
            "text/plain": [
              "'iteeN hgniS'"
            ]
          },
          "metadata": {
            "tags": []
          },
          "execution_count": 23
        }
      ]
    },
    {
      "cell_type": "markdown",
      "metadata": {
        "id": "s1QjrBfVf8cO",
        "colab_type": "text"
      },
      "source": [
        "\n",
        "#Q3 program to find the volume of sphere of daimeter 12 dm"
      ]
    },
    {
      "cell_type": "code",
      "metadata": {
        "id": "Q1GQlMD5alDk",
        "colab_type": "code",
        "colab": {}
      },
      "source": [
        "import math\n",
        "\n",
        "pi = math.pi"
      ],
      "execution_count": 2,
      "outputs": []
    },
    {
      "cell_type": "code",
      "metadata": {
        "id": "WicdsU6bcD7V",
        "colab_type": "code",
        "colab": {}
      },
      "source": [
        "#Converting Diameter into radius\n",
        "r = float(12/2)"
      ],
      "execution_count": 3,
      "outputs": []
    },
    {
      "cell_type": "code",
      "metadata": {
        "id": "SZxxemcQcIFF",
        "colab_type": "code",
        "colab": {}
      },
      "source": [
        "V = (float(4/3)*(pi)*(r)**3)"
      ],
      "execution_count": 4,
      "outputs": []
    },
    {
      "cell_type": "code",
      "metadata": {
        "id": "5HYCpkdhcNOL",
        "colab_type": "code",
        "colab": {
          "base_uri": "https://localhost:8080/",
          "height": 34
        },
        "outputId": "c25ac0f3-ae99-4ae7-ed05-55b6a99f4be7"
      },
      "source": [
        "print(V)"
      ],
      "execution_count": 5,
      "outputs": [
        {
          "output_type": "stream",
          "text": [
            "904.7786842338603\n"
          ],
          "name": "stdout"
        }
      ]
    },
    {
      "cell_type": "code",
      "metadata": {
        "id": "DwATnYSiciBy",
        "colab_type": "code",
        "colab": {}
      },
      "source": [
        ""
      ],
      "execution_count": null,
      "outputs": []
    }
  ]
}